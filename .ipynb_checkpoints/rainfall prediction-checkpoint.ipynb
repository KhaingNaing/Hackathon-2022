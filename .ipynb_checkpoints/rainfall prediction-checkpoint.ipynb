{
 "cells": [
  {
   "cell_type": "code",
   "execution_count": 2,
   "id": "d501a54e",
   "metadata": {},
   "outputs": [],
   "source": [
    "import numpy as np\n",
    "import pandas as pd\n",
    "import matplotlib.pyplot as plt\n",
    "import seaborn as sns\n",
    "\n",
    "from sklearn.model_selection import train_test_split\n",
    "from sklearn.metrics import accuracy_score, recall_score, ConfusionMatrixDisplay, classification_report, auc, precision_score\n",
    "from sklearn.ensemble import RandomForestRegressor, RandomForestClassifier\n",
    "from sklearn.linear_model import LogisticRegression"
   ]
  },
  {
   "cell_type": "markdown",
   "id": "c35c5289",
   "metadata": {},
   "source": [
    "1. Data Preprocessing \n",
    "\n",
    "    database info(), describe(), shape\n",
    "\n",
    "2. Find Categorical and Numerical features \n",
    "\n",
    "    Find categorical and numerical features in dataset \n",
    "\n",
    "3. Cardinality check for Categorical features\n",
    "\n",
    "    find unique values in each categorical feature \n",
    "\n",
    "4. Handling Missing Values\n",
    "\n",
    "    fill NA values using mode(), mean() or median()\n",
    "\n",
    "5. Outlier detection and treatment \n",
    "\n",
    "    detect outlier and create function to remove them \n",
    "\n",
    "6. Exploratory Data Analysis\n",
    "\n",
    "    ???\n",
    "\n",
    "7. Encoding Categorical features (for logistic regression)\n",
    "\n",
    "    convert categorical data to numerical data using feature encoding\n",
    "\n",
    "8. Find Correlation \n",
    "\n",
    "    using corr() find features' relationship \n",
    "\n",
    "9. Find importance features\n",
    "\n",
    "    finding relevant features to build a model \n",
    "\n",
    "10. Train Test split\n",
    "\n",
    "    using train_test_split() to split data into training and testing sets\n",
    "\n",
    "11. Feature Scaling \n",
    "\n",
    "    scale data of each column to a common level (use StandardScaler)\n",
    "\n",
    "12. Model Build and Evaluation \n",
    "\n",
    "    Logistic Regression algorithm for model build and accuarcy_score() for Model Evaluation, finally use confusion matrix for summarise performance \n",
    "13. Save Model "
   ]
  },
  {
   "cell_type": "code",
   "execution_count": 3,
   "id": "17347159",
   "metadata": {},
   "outputs": [],
   "source": [
    "db = pd.read_csv('weatherAUS.csv')"
   ]
  },
  {
   "cell_type": "code",
   "execution_count": 4,
   "id": "7b3cbb57",
   "metadata": {},
   "outputs": [
    {
     "name": "stdout",
     "output_type": "stream",
     "text": [
      "<class 'pandas.core.frame.DataFrame'>\n",
      "RangeIndex: 145460 entries, 0 to 145459\n",
      "Data columns (total 23 columns):\n",
      " #   Column         Non-Null Count   Dtype  \n",
      "---  ------         --------------   -----  \n",
      " 0   Date           145460 non-null  object \n",
      " 1   Location       145460 non-null  object \n",
      " 2   MinTemp        143975 non-null  float64\n",
      " 3   MaxTemp        144199 non-null  float64\n",
      " 4   Rainfall       142199 non-null  float64\n",
      " 5   Evaporation    82670 non-null   float64\n",
      " 6   Sunshine       75625 non-null   float64\n",
      " 7   WindGustDir    135134 non-null  object \n",
      " 8   WindGustSpeed  135197 non-null  float64\n",
      " 9   WindDir9am     134894 non-null  object \n",
      " 10  WindDir3pm     141232 non-null  object \n",
      " 11  WindSpeed9am   143693 non-null  float64\n",
      " 12  WindSpeed3pm   142398 non-null  float64\n",
      " 13  Humidity9am    142806 non-null  float64\n",
      " 14  Humidity3pm    140953 non-null  float64\n",
      " 15  Pressure9am    130395 non-null  float64\n",
      " 16  Pressure3pm    130432 non-null  float64\n",
      " 17  Cloud9am       89572 non-null   float64\n",
      " 18  Cloud3pm       86102 non-null   float64\n",
      " 19  Temp9am        143693 non-null  float64\n",
      " 20  Temp3pm        141851 non-null  float64\n",
      " 21  RainToday      142199 non-null  object \n",
      " 22  RainTomorrow   142193 non-null  object \n",
      "dtypes: float64(16), object(7)\n",
      "memory usage: 25.5+ MB\n",
      "None\n"
     ]
    }
   ],
   "source": [
    "print(db.info())"
   ]
  },
  {
   "cell_type": "code",
   "execution_count": 5,
   "id": "c8271351",
   "metadata": {},
   "outputs": [
    {
     "name": "stdout",
     "output_type": "stream",
     "text": [
      "             MinTemp        MaxTemp       Rainfall   Evaporation  \\\n",
      "count  143975.000000  144199.000000  142199.000000  82670.000000   \n",
      "mean       12.194034      23.221348       2.360918      5.468232   \n",
      "std         6.398495       7.119049       8.478060      4.193704   \n",
      "min        -8.500000      -4.800000       0.000000      0.000000   \n",
      "25%         7.600000      17.900000       0.000000      2.600000   \n",
      "50%        12.000000      22.600000       0.000000      4.800000   \n",
      "75%        16.900000      28.200000       0.800000      7.400000   \n",
      "max        33.900000      48.100000     371.000000    145.000000   \n",
      "\n",
      "           Sunshine  WindGustSpeed   WindSpeed9am   WindSpeed3pm  \\\n",
      "count  75625.000000  135197.000000  143693.000000  142398.000000   \n",
      "mean       7.611178      40.035230      14.043426      18.662657   \n",
      "std        3.785483      13.607062       8.915375       8.809800   \n",
      "min        0.000000       6.000000       0.000000       0.000000   \n",
      "25%        4.800000      31.000000       7.000000      13.000000   \n",
      "50%        8.400000      39.000000      13.000000      19.000000   \n",
      "75%       10.600000      48.000000      19.000000      24.000000   \n",
      "max       14.500000     135.000000     130.000000      87.000000   \n",
      "\n",
      "         Humidity9am    Humidity3pm   Pressure9am    Pressure3pm  \\\n",
      "count  142806.000000  140953.000000  130395.00000  130432.000000   \n",
      "mean       68.880831      51.539116    1017.64994    1015.255889   \n",
      "std        19.029164      20.795902       7.10653       7.037414   \n",
      "min         0.000000       0.000000     980.50000     977.100000   \n",
      "25%        57.000000      37.000000    1012.90000    1010.400000   \n",
      "50%        70.000000      52.000000    1017.60000    1015.200000   \n",
      "75%        83.000000      66.000000    1022.40000    1020.000000   \n",
      "max       100.000000     100.000000    1041.00000    1039.600000   \n",
      "\n",
      "           Cloud9am      Cloud3pm        Temp9am       Temp3pm  \n",
      "count  89572.000000  86102.000000  143693.000000  141851.00000  \n",
      "mean       4.447461      4.509930      16.990631      21.68339  \n",
      "std        2.887159      2.720357       6.488753       6.93665  \n",
      "min        0.000000      0.000000      -7.200000      -5.40000  \n",
      "25%        1.000000      2.000000      12.300000      16.60000  \n",
      "50%        5.000000      5.000000      16.700000      21.10000  \n",
      "75%        7.000000      7.000000      21.600000      26.40000  \n",
      "max        9.000000      9.000000      40.200000      46.70000  \n",
      "              Date  Location WindGustDir WindDir9am WindDir3pm RainToday  \\\n",
      "count       145460    145460      135134     134894     141232    142199   \n",
      "unique        3436        49          16         16         16         2   \n",
      "top     2013-11-12  Canberra           W          N         SE        No   \n",
      "freq            49      3436        9915      11758      10838    110319   \n",
      "\n",
      "       RainTomorrow  \n",
      "count        142193  \n",
      "unique            2  \n",
      "top              No  \n",
      "freq         110316  \n",
      "(145460, 23)\n"
     ]
    }
   ],
   "source": [
    "print(db.describe(exclude=\"O\"))      \n",
    "print(db.describe(include=\"O\"))\n",
    "print(db.shape)\n"
   ]
  },
  {
   "cell_type": "code",
   "execution_count": null,
   "id": "15d0985a",
   "metadata": {},
   "outputs": [],
   "source": [
    "\n",
    "\n"
   ]
  },
  {
   "cell_type": "code",
   "execution_count": 21,
   "id": "ac61ab9f",
   "metadata": {},
   "outputs": [
    {
     "data": {
      "text/plain": [
       "Date                 0\n",
       "Location             0\n",
       "MinTemp           1485\n",
       "MaxTemp           1261\n",
       "Rainfall          3261\n",
       "Evaporation      62790\n",
       "Sunshine         69835\n",
       "WindGustDir      10326\n",
       "WindGustSpeed    10263\n",
       "WindDir9am       10566\n",
       "WindDir3pm        4228\n",
       "WindSpeed9am      1767\n",
       "WindSpeed3pm      3062\n",
       "Humidity9am       2654\n",
       "Humidity3pm       4507\n",
       "Pressure9am      15065\n",
       "Pressure3pm      15028\n",
       "Cloud9am         55888\n",
       "Cloud3pm         59358\n",
       "Temp9am           1767\n",
       "Temp3pm           3609\n",
       "RainToday         3261\n",
       "RainTomorrow      3267\n",
       "dtype: int64"
      ]
     },
     "execution_count": 21,
     "metadata": {},
     "output_type": "execute_result"
    }
   ],
   "source": [
    "db.isna().sum()"
   ]
  },
  {
   "cell_type": "code",
   "execution_count": null,
   "id": "bc589096",
   "metadata": {},
   "outputs": [],
   "source": []
  }
 ],
 "metadata": {
  "kernelspec": {
   "display_name": "Python 3 (ipykernel)",
   "language": "python",
   "name": "python3"
  },
  "language_info": {
   "codemirror_mode": {
    "name": "ipython",
    "version": 3
   },
   "file_extension": ".py",
   "mimetype": "text/x-python",
   "name": "python",
   "nbconvert_exporter": "python",
   "pygments_lexer": "ipython3",
   "version": "3.9.12"
  },
  "vscode": {
   "interpreter": {
    "hash": "a0cef5a626a259bdb0db6de645816e334ce0266e02748ac93db6e0e0b91b8047"
   }
  }
 },
 "nbformat": 4,
 "nbformat_minor": 5
}
